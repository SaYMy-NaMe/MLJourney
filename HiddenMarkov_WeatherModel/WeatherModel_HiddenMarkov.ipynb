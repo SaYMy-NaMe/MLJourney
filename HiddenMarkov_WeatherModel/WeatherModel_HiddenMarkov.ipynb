{
  "nbformat": 4,
  "nbformat_minor": 0,
  "metadata": {
    "colab": {
      "provenance": []
    },
    "kernelspec": {
      "name": "python3",
      "display_name": "Python 3"
    },
    "language_info": {
      "name": "python"
    }
  },
  "cells": [
    {
      "cell_type": "code",
      "execution_count": 1,
      "metadata": {
        "colab": {
          "base_uri": "https://localhost:8080/"
        },
        "id": "Uv9GdF55jZKX",
        "outputId": "3d648a3d-af83-42ea-b9da-16d4cf391d28"
      },
      "outputs": [
        {
          "output_type": "stream",
          "name": "stdout",
          "text": [
            "Colab only includes TensorFlow 2.x; %tensorflow_version has no effect.\n"
          ]
        }
      ],
      "source": [
        "%tensorflow_version 2.x"
      ]
    },
    {
      "cell_type": "markdown",
      "source": [
        "# Import and Setup"
      ],
      "metadata": {
        "id": "aC5qeo_Jjukh"
      }
    },
    {
      "cell_type": "code",
      "source": [
        "# We are using a different module from tensorflow this time\n",
        "import tensorflow_probability as tfp\n",
        "import tensorflow as tf"
      ],
      "metadata": {
        "id": "Py1LIQdfjxNy"
      },
      "execution_count": 2,
      "outputs": []
    },
    {
      "cell_type": "markdown",
      "source": [
        "# A simple weather model.\n",
        "\n",
        "Represent a cold day with 0 and a hot day with 1. Suppose the first day of sequence has a 0.8 chance of being cold. We can model this using the categorical distribution:"
      ],
      "metadata": {
        "id": "cM2-8huolrji"
      }
    },
    {
      "cell_type": "code",
      "source": [
        "tfd = tfp.distributions # making a shortcut for later on"
      ],
      "metadata": {
        "id": "gHauN2cslK0z"
      },
      "execution_count": 3,
      "outputs": []
    },
    {
      "cell_type": "markdown",
      "source": [
        "*   The first day of a sequence has a 0.8 chance of being cold.\n",
        "*   Hot day has a 20% chance of being followed by a cold day.\n",
        "\n",
        "We can model this as:"
      ],
      "metadata": {
        "id": "56Rfn7URl9RD"
      }
    },
    {
      "cell_type": "code",
      "source": [
        "initial_distribution = tfd.Categorical(probs=[0.8, 0.2])"
      ],
      "metadata": {
        "id": "LObJ_rhTmKI6"
      },
      "execution_count": 4,
      "outputs": []
    },
    {
      "cell_type": "markdown",
      "source": [
        "*   Cold day has a 30% chance of being followed by a hot day\n",
        "*   Hot day has a 20% chance of being followed by a cold day\n",
        "\n",
        "We can model this as:"
      ],
      "metadata": {
        "id": "PMIxHPXgmNzL"
      }
    },
    {
      "cell_type": "code",
      "source": [
        "transition_distribution = tfd.Categorical(probs=[[0.7, 0.3],\n",
        "                                                 [0.2, 0.8]])"
      ],
      "metadata": {
        "id": "mIYuOHIYmNa0"
      },
      "execution_count": 6,
      "outputs": []
    },
    {
      "cell_type": "markdown",
      "source": [
        "*   Additionally that on each day the temperature is normally distributed with mean and standard deviation 0 and 5 on a cold day\n",
        "*   And, mean and standard deviation 15 and 10 on a hot day\n",
        "\n",
        "We can model this as:"
      ],
      "metadata": {
        "id": "TD4p9Ngim7lE"
      }
    },
    {
      "cell_type": "code",
      "source": [
        "observation_distribution = tfd.Normal(loc=[0., 15.], scale=[5., 10.])"
      ],
      "metadata": {
        "id": "pTU7skqlnQvs"
      },
      "execution_count": 7,
      "outputs": []
    },
    {
      "cell_type": "markdown",
      "source": [
        "We've now created distribution variables to model our system and it's time to create the hidden markov model"
      ],
      "metadata": {
        "id": "EkvrLlPWn2hD"
      }
    },
    {
      "cell_type": "markdown",
      "source": [
        "The number of steps represents the number of days that we would like to predict information for. In this case we've chosen 7, an entire week. To get the **expected** temperatures on each day we can do the following"
      ],
      "metadata": {
        "id": "GniTwxmRpmds"
      }
    },
    {
      "cell_type": "code",
      "source": [
        "model = tfd.HiddenMarkovModel(\n",
        "    initial_distribution=initial_distribution,\n",
        "    transition_distribution=transition_distribution,\n",
        "    observation_distribution=observation_distribution,\n",
        "    num_steps=7)"
      ],
      "metadata": {
        "id": "gplUqkFwn-gU"
      },
      "execution_count": 9,
      "outputs": []
    },
    {
      "cell_type": "code",
      "source": [
        "mean = model.mean()\n",
        "\n",
        "with tf.compat.v1.Session() as sess:\n",
        "  print(mean.numpy())"
      ],
      "metadata": {
        "colab": {
          "base_uri": "https://localhost:8080/"
        },
        "id": "0MfmXl0Np6jk",
        "outputId": "b675b582-e394-4f9c-99db-800d476b6eda"
      },
      "execution_count": 10,
      "outputs": [
        {
          "output_type": "stream",
          "name": "stdout",
          "text": [
            "[3.        5.9999995 7.4999995 8.25      8.625001  8.812501  8.90625  ]\n"
          ]
        }
      ]
    }
  ]
}